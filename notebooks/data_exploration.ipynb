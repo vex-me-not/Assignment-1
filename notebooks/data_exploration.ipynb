{
 "cells": [
  {
   "cell_type": "code",
   "execution_count": 87,
   "metadata": {},
   "outputs": [],
   "source": [
    "import sys\n",
    "import os\n",
    "\n",
    "# needed to be able to import from src\n",
    "sys.path.append(os.path.abspath(os.path.join(os.getcwd(), \"..\")))"
   ]
  },
  {
   "cell_type": "code",
   "execution_count": 96,
   "metadata": {},
   "outputs": [],
   "source": [
    "import numpy as np\n",
    "import pandas as pd\n",
    "import matplotlib.pyplot as plt\n",
    "from sklearn.preprocessing import StandardScaler,MinMaxScaler,RobustScaler,PowerTransformer\n",
    "from scipy import stats\n",
    "from sklearn.pipeline import Pipeline\n",
    "\n",
    "from src.functions import *"
   ]
  },
  {
   "cell_type": "code",
   "execution_count": null,
   "metadata": {},
   "outputs": [
    {
     "name": "stdout",
     "output_type": "stream",
     "text": [
      "No duplicates in the dev set\n",
      "No duplicates in the val set\n",
      "(489, 134)\n",
      "(131, 134)\n",
      "['Acholeplasma axanthum', 'Acidaminococcus fermentans', 'Acidaminococcus intestini', 'Actinomyces lingnae', 'Akkermansia muciniphila', 'Alistipes finegoldii', 'Alistipes indistinctus', 'Alistipes obesi', 'Alistipes onderdonkii', 'Alistipes putredinis', 'Alistipes shahii', 'Alistipes sp. RMA 9912', 'Alistipes timonensis', 'Anaerofilum pentosovorans', 'Anaerofustis stercorihominis', 'Anaerostipes butyraticus', 'Anaerostipes caccae', 'Anaerotruncus colihominis', 'Bacillus megaterium', 'Bacillus nealsonii', 'Bacteroides eggerthii', 'Bacteroides fragilis', 'Bacteroides gallinarum', 'Bacteroides graminisolvens', 'Bacteroides intestinalis', 'Bacteroides massiliensis', 'Bacteroides ovatus', 'Bacteroides plebeius', 'Bacteroides salyersiae', 'Barnesiella viscericola', 'Bifidobacterium bifidum', 'Bifidobacterium pseudocatenulatum', 'Bifidobacterium saguini', 'Bifidobacterium tsurumiense', 'Bilophila wadsworthia', 'Blautia coccoides', 'Blautia glucerasea', 'Blautia hydrogenotrophica', 'Blautia producta', 'Blautia schinkii', 'Butyricimonas virosa', 'Catabacter hongkongensis', 'Christensenella minuta', 'Clostridium amylolyticum', 'Clostridium malenominatum', 'Clostridium maximum', 'Clostridium sp.', 'Collinsella aerofaciens', 'Collinsella intestinalis', 'Collinsella tanakaei', 'Coprobacillus cateniformis', 'Coprococcus catus', 'Coprococcus eutactus', 'Desulfonispora thiosulfatigenes', 'Desulfosporosinus orientis', 'Desulfovibrio desulfuricans', 'Desulfovibrio fairfieldensis', 'Desulfovibrio piger', 'Desulfovibrio vulgaris', 'Ethanoligenens harbinense', 'Eubacterium desmolans', 'Eubacterium xylanophilum', 'Faecalibacterium sp. MC_41', 'Flavonifractor plautii', 'Fusobacterium nucleatum', 'Holdemanella biformis', 'Holdemania filiformis', 'Hungatella hathewayi', 'Lachnospiraceae bacterium 3_1_57FAA_CT1', 'Lachnospiraceae bacterium 5_1_63FAA', 'Lachnospiraceae bacterium 7_1_58FAA', 'Lactococcus lactis', 'Odoribacter splanchnicus', 'Oscillibacter valericigenes', 'Oxalobacter formigenes', 'Papillibacter cinnamivorans', 'Parabacteroides distasonis', 'Parabacteroides goldsteinii', 'Parabacteroides johnsonii', 'Parabacteroides merdae', 'Parasutterella excrementihominis', 'Peptoniphilus lacrimalis', 'Porphyromonas catoniae', 'Prevotella bivia', 'Prevotella buccalis', 'Prevotella oris', 'Prevotella oryzae', 'Prevotella paludivivens', 'Prevotella ruminicola', 'Prevotella shahii', 'Prevotella timonensis', 'Pseudobacteroides cellulosolvens', 'Pseudoflavonifractor capillosus', 'Roseburia hominis', 'Roseburia intestinalis', 'Ruminiclostridium thermocellum', 'Ruminococcaceae bacterium D16', 'Ruminococcus albus', 'Ruminococcus callidus', 'Ruminococcus champanellensis', 'Ruminococcus flavefaciens', 'Ruminococcus sp. DSM 100440', 'Sporobacter termitidis', 'Streptococcus infantarius', 'Streptococcus mitis', 'Streptococcus oralis', 'Sutterella parvirubra', 'Thermobaculum terrenum', 'Victivallis sp. MC_44', 'Bacteroides pectinophilus', 'Clostridium aldenense', 'Clostridium asparagiforme', 'Clostridium bolteae', 'Clostridium celerecrescens', 'Clostridium cellobioparum', 'Clostridium clariflavum', 'Clostridium colinum', 'Clostridium indolis', 'Clostridium leptum', 'Clostridium methylpentosum', 'Clostridium neopropionicum', 'Clostridium propionicum', 'Clostridium saccharogumia', 'Clostridium saccharolyticum', 'Clostridium sphenoides', 'Clostridium spiroforme', 'Clostridium stercorarium', 'Clostridium symbiosum', 'Clostridium thermosuccinogenes', 'Clostridium xylanolyticum', 'Eubacterium brachy', 'Eubacterium dolichum', 'Eubacterium sulci', 'Ruminococcus gnavus']\n"
     ]
    }
   ],
   "source": [
    "\n",
    "dev_set_df=pd.read_csv(\"../data/assignment1_dev_set.csv\")\n",
    "val_set_df=pd.read_csv(\"../data/assignment1_val_set.csv\")\n",
    "\n",
    "\n",
    "# we replace potentially NA values in dev and val set\n",
    "dev_set_df.fillna(value=0.0)\n",
    "val_set_df.fillna(value=0.0)\n",
    "\n",
    "# we remove duplicates from the dev set\n",
    "shape_before=dev_set_df.shape\n",
    "dev_set_df.drop_duplicates()\n",
    "shape_after=dev_set_df.shape\n",
    "\n",
    "if (shape_before != shape_after):\n",
    "    print(\"Before removal of duplicates\",shape_before)\n",
    "    print(\"After removal of duplicates\",shape_after)\n",
    "else:\n",
    "    print(\"No duplicates in the dev set\")\n",
    "\n",
    "# we remove duplicates from the val set\n",
    "shape_before=val_set_df.shape\n",
    "val_set_df.drop_duplicates()\n",
    "shape_after=val_set_df.shape\n",
    "\n",
    "if (shape_before != shape_after):\n",
    "    print(\"Before removal of duplicates\",shape_before)\n",
    "    print(\"After removal of duplicates\",shape_after)\n",
    "else:\n",
    "    print(\"No duplicates in the val set\")\n",
    "\n",
    "bmi=pd.DataFrame(dev_set_df[\"BMI\"])\n",
    "age=pd.DataFrame(dev_set_df[\"Host age\"])\n",
    "sex=dev_set_df[\"Sex\"]\n",
    "\n",
    "to_drop=['Unnamed: 0', 'Project ID','Experiment type','Sex','Host age','Disease MESH ID','BMI']\n",
    "\n",
    "# we check for outliers\n",
    "bacteria=dev_set_df.drop(labels=to_drop,axis=1)\n",
    "\n",
    "bacteria_no_outliers=bacteria[(np.abs(stats.zscore(bacteria)) < 3).all(axis=1)]\n",
    "print(bacteria.shape)\n",
    "print(bacteria_no_outliers.shape)\n",
    "\n",
    "\n",
    "# we need to encode the sexes to 0 and 1\n",
    "sex_encoded=sex.apply(encode_sex)\n",
    "\n",
    "bacteria_names=list(bacteria)\n"
   ]
  },
  {
   "cell_type": "code",
   "execution_count": 152,
   "metadata": {},
   "outputs": [
    {
     "name": "stdout",
     "output_type": "stream",
     "text": [
      "(489, 134)\n"
     ]
    }
   ],
   "source": [
    "# we will scale our numerical data\n",
    "# scaler = StandardScaler()\n",
    "# scaler = MinMaxScaler()\n",
    "# scaler = RobustScaler()\n",
    "# scaler.fit(bacteria)\n",
    "\n",
    "# scaled_bacteria=scaler.fit_transform(bacteria)\n",
    "\n",
    "pipeline = Pipeline([\n",
    "    ('scaler', RobustScaler()),  \n",
    "    ('transformer', PowerTransformer(method='yeo-johnson'))\n",
    "])\n",
    "\n",
    "scaled_bacteria=pipeline.fit_transform(bacteria)\n",
    "scaled_bacteria_df=pd.DataFrame(columns=bacteria_names,data=scaled_bacteria)\n",
    "scaled_bacteria_df=scaled_bacteria_df.reindex(sorted(scaled_bacteria_df.columns),axis=1)\n",
    "print(scaled_bacteria_df.shape)"
   ]
  },
  {
   "cell_type": "code",
   "execution_count": null,
   "metadata": {},
   "outputs": [
    {
     "name": "stdout",
     "output_type": "stream",
     "text": [
      "(489, 137)\n"
     ]
    }
   ],
   "source": [
    "to_be_saved_dev=pd.concat([bmi,age,sex_encoded,scaled_bacteria_df],axis=1)\n",
    "print(to_be_saved_dev.shape)"
   ]
  }
 ],
 "metadata": {
  "kernelspec": {
   "display_name": "base",
   "language": "python",
   "name": "python3"
  },
  "language_info": {
   "codemirror_mode": {
    "name": "ipython",
    "version": 3
   },
   "file_extension": ".py",
   "mimetype": "text/x-python",
   "name": "python",
   "nbconvert_exporter": "python",
   "pygments_lexer": "ipython3",
   "version": "3.12.7"
  }
 },
 "nbformat": 4,
 "nbformat_minor": 2
}
