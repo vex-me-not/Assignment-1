{
 "cells": [
  {
   "cell_type": "code",
   "execution_count": 2,
   "metadata": {},
   "outputs": [
    {
     "name": "stdout",
     "output_type": "stream",
     "text": [
      "['Unnamed: 0', 'Project ID', 'Experiment type', 'Sex', 'Host age', 'BMI', 'Disease MESH ID', 'Acholeplasma axanthum', 'Acidaminococcus fermentans', 'Acidaminococcus intestini', 'Actinomyces lingnae', 'Akkermansia muciniphila', 'Alistipes finegoldii', 'Alistipes indistinctus', 'Alistipes obesi', 'Alistipes onderdonkii', 'Alistipes putredinis', 'Alistipes shahii', 'Alistipes sp. RMA 9912', 'Alistipes timonensis', 'Anaerofilum pentosovorans', 'Anaerofustis stercorihominis', 'Anaerostipes butyraticus', 'Anaerostipes caccae', 'Anaerotruncus colihominis', 'Bacillus megaterium', 'Bacillus nealsonii', 'Bacteroides eggerthii', 'Bacteroides fragilis', 'Bacteroides gallinarum', 'Bacteroides graminisolvens', 'Bacteroides intestinalis', 'Bacteroides massiliensis', 'Bacteroides ovatus', 'Bacteroides plebeius', 'Bacteroides salyersiae', 'Barnesiella viscericola', 'Bifidobacterium bifidum', 'Bifidobacterium pseudocatenulatum', 'Bifidobacterium saguini', 'Bifidobacterium tsurumiense', 'Bilophila wadsworthia', 'Blautia coccoides', 'Blautia glucerasea', 'Blautia hydrogenotrophica', 'Blautia producta', 'Blautia schinkii', 'Butyricimonas virosa', 'Catabacter hongkongensis', 'Christensenella minuta', 'Clostridium amylolyticum', 'Clostridium malenominatum', 'Clostridium maximum', 'Clostridium sp.', 'Collinsella aerofaciens', 'Collinsella intestinalis', 'Collinsella tanakaei', 'Coprobacillus cateniformis', 'Coprococcus catus', 'Coprococcus eutactus', 'Desulfonispora thiosulfatigenes', 'Desulfosporosinus orientis', 'Desulfovibrio desulfuricans', 'Desulfovibrio fairfieldensis', 'Desulfovibrio piger', 'Desulfovibrio vulgaris', 'Ethanoligenens harbinense', 'Eubacterium desmolans', 'Eubacterium xylanophilum', 'Faecalibacterium sp. MC_41', 'Flavonifractor plautii', 'Fusobacterium nucleatum', 'Holdemanella biformis', 'Holdemania filiformis', 'Hungatella hathewayi', 'Lachnospiraceae bacterium 3_1_57FAA_CT1', 'Lachnospiraceae bacterium 5_1_63FAA', 'Lachnospiraceae bacterium 7_1_58FAA', 'Lactococcus lactis', 'Odoribacter splanchnicus', 'Oscillibacter valericigenes', 'Oxalobacter formigenes', 'Papillibacter cinnamivorans', 'Parabacteroides distasonis', 'Parabacteroides goldsteinii', 'Parabacteroides johnsonii', 'Parabacteroides merdae', 'Parasutterella excrementihominis', 'Peptoniphilus lacrimalis', 'Porphyromonas catoniae', 'Prevotella bivia', 'Prevotella buccalis', 'Prevotella oris', 'Prevotella oryzae', 'Prevotella paludivivens', 'Prevotella ruminicola', 'Prevotella shahii', 'Prevotella timonensis', 'Pseudobacteroides cellulosolvens', 'Pseudoflavonifractor capillosus', 'Roseburia hominis', 'Roseburia intestinalis', 'Ruminiclostridium thermocellum', 'Ruminococcaceae bacterium D16', 'Ruminococcus albus', 'Ruminococcus callidus', 'Ruminococcus champanellensis', 'Ruminococcus flavefaciens', 'Ruminococcus sp. DSM 100440', 'Sporobacter termitidis', 'Streptococcus infantarius', 'Streptococcus mitis', 'Streptococcus oralis', 'Sutterella parvirubra', 'Thermobaculum terrenum', 'Victivallis sp. MC_44', 'Bacteroides pectinophilus', 'Clostridium aldenense', 'Clostridium asparagiforme', 'Clostridium bolteae', 'Clostridium celerecrescens', 'Clostridium cellobioparum', 'Clostridium clariflavum', 'Clostridium colinum', 'Clostridium indolis', 'Clostridium leptum', 'Clostridium methylpentosum', 'Clostridium neopropionicum', 'Clostridium propionicum', 'Clostridium saccharogumia', 'Clostridium saccharolyticum', 'Clostridium sphenoides', 'Clostridium spiroforme', 'Clostridium stercorarium', 'Clostridium symbiosum', 'Clostridium thermosuccinogenes', 'Clostridium xylanolyticum', 'Eubacterium brachy', 'Eubacterium dolichum', 'Eubacterium sulci', 'Ruminococcus gnavus']\n"
     ]
    }
   ],
   "source": [
    "import numpy as np\n",
    "import pandas as pd\n",
    "import matplotlib.pyplot as plt\n",
    "\n",
    "dev_set_df=pd.read_csv(\"../data/assignment1_dev_set.csv\")\n",
    "val_set_df=pd.read_csv(\"../data/assignment1_val_set.csv\")\n",
    "\n",
    "print(list(dev_set_df))"
   ]
  }
 ],
 "metadata": {
  "kernelspec": {
   "display_name": "base",
   "language": "python",
   "name": "python3"
  },
  "language_info": {
   "codemirror_mode": {
    "name": "ipython",
    "version": 3
   },
   "file_extension": ".py",
   "mimetype": "text/x-python",
   "name": "python",
   "nbconvert_exporter": "python",
   "pygments_lexer": "ipython3",
   "version": "3.12.7"
  }
 },
 "nbformat": 4,
 "nbformat_minor": 2
}
