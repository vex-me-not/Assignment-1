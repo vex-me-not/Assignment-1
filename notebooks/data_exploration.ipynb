{
 "cells": [
  {
   "cell_type": "code",
   "execution_count": 51,
   "metadata": {},
   "outputs": [],
   "source": [
    "import sys\n",
    "import os\n",
    "\n",
    "# needed to be able to import from src\n",
    "sys.path.append(os.path.abspath(os.path.join(os.getcwd(), \"..\")))"
   ]
  },
  {
   "cell_type": "code",
   "execution_count": 52,
   "metadata": {},
   "outputs": [],
   "source": [
    "import numpy as np\n",
    "import pandas as pd\n",
    "import matplotlib.pyplot as plt\n",
    "from src.functions import *"
   ]
  },
  {
   "cell_type": "code",
   "execution_count": 53,
   "metadata": {},
   "outputs": [],
   "source": [
    "\n",
    "dev_set_df=pd.read_csv(\"../data/assignment1_dev_set.csv\")\n",
    "val_set_df=pd.read_csv(\"../data/assignment1_val_set.csv\")\n",
    "\n",
    "# print(list(dev_set_df))\n",
    "\n",
    "bmi=dev_set_df[\"BMI\"]\n",
    "age=dev_set_df[\"Host age\"]\n",
    "sex=dev_set_df[\"Sex\"]\n",
    "\n",
    "to_drop=['Unnamed: 0', 'Project ID','Experiment type','Sex','Host age','Disease MESH ID','BMI']\n",
    "\n",
    "bacteria=dev_set_df.drop(labels=to_drop,axis=1)\n",
    "\n",
    "# we need to encode the sexes to 0 and 1\n",
    "sex_encoded=sex.apply(encode_sex)\n",
    "\n",
    "\n",
    "# print(sex_encoded)\n",
    "# print(list(bacteria))\n",
    "# print(bmi)\n",
    "\n",
    "# for bacterium in list(bacteria):\n",
    "#     print(f\"--{bacterium}--\\n Mean: {bacteria[bacterium].mean()}\\n Standard deviation: {bacteria[bacterium].std()}\\n \\\n",
    "# Max:{bacteria[bacterium].max()}\\n Min:{bacteria[bacterium].min()}\")\n"
   ]
  }
 ],
 "metadata": {
  "kernelspec": {
   "display_name": "base",
   "language": "python",
   "name": "python3"
  },
  "language_info": {
   "codemirror_mode": {
    "name": "ipython",
    "version": 3
   },
   "file_extension": ".py",
   "mimetype": "text/x-python",
   "name": "python",
   "nbconvert_exporter": "python",
   "pygments_lexer": "ipython3",
   "version": "3.12.7"
  }
 },
 "nbformat": 4,
 "nbformat_minor": 2
}
