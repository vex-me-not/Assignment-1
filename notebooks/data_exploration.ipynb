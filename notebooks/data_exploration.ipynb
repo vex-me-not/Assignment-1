{
 "cells": [
  {
   "cell_type": "code",
   "execution_count": null,
   "metadata": {},
   "outputs": [],
   "source": [
    "import numpy as np\n",
    "import pandas as pd\n",
    "import sys\n",
    "import os\n",
    "import matplotlib.pyplot as plt\n",
    "from sklearn.preprocessing import StandardScaler,MinMaxScaler,RobustScaler,PowerTransformer\n",
    "from scipy import stats\n",
    "from sklearn.pipeline import Pipeline"
   ]
  },
  {
   "cell_type": "code",
   "execution_count": 8,
   "metadata": {},
   "outputs": [
    {
     "name": "stdout",
     "output_type": "stream",
     "text": [
      "/home/sdi1700187/MLCBAss1/Assignment-1\n"
     ]
    }
   ],
   "source": [
    "# need to be able to import src\n",
    "sys.path.append(os.path.abspath(os.path.join(os.getcwd(), \"..\")))\n",
    "\n",
    "# absolute path to the src directory\n",
    "src_path = os.path.abspath(\"../src\")\n",
    "\n",
    "# Add src directory to system path\n",
    "sys.path.append(src_path)\n",
    "\n",
    "# get the /MLCBAss1/Assignment-1 path\n",
    "ass_path=sys.path[-2]\n",
    "\n",
    "print(ass_path)\n"
   ]
  },
  {
   "cell_type": "code",
   "execution_count": 9,
   "metadata": {},
   "outputs": [
    {
     "name": "stdout",
     "output_type": "stream",
     "text": [
      "The autoreload extension is already loaded. To reload it, use:\n",
      "  %reload_ext autoreload\n"
     ]
    }
   ],
   "source": [
    "from functions import *\n",
    "\n",
    "%load_ext autoreload\n",
    "%autoreload 2"
   ]
  },
  {
   "cell_type": "code",
   "execution_count": 10,
   "metadata": {},
   "outputs": [],
   "source": [
    "# we load the two datasets\n",
    "dev_set_df=pd.read_csv(\"../data/assignment1_dev_set.csv\")\n",
    "val_set_df=pd.read_csv(\"../data/assignment1_val_set.csv\")\n"
   ]
  },
  {
   "cell_type": "code",
   "execution_count": 11,
   "metadata": {},
   "outputs": [
    {
     "name": "stdout",
     "output_type": "stream",
     "text": [
      "No duplicates in the set\n",
      "No duplicates in the set\n"
     ]
    }
   ],
   "source": [
    "# we clean the datasets\n",
    "frames_dev=clean_data(dev_set_df)\n",
    "frames_val=clean_data(val_set_df)"
   ]
  },
  {
   "cell_type": "code",
   "execution_count": 12,
   "metadata": {},
   "outputs": [
    {
     "name": "stdout",
     "output_type": "stream",
     "text": [
      "Creating datframe for the clean data...\n",
      "The shape of the clean dataframe is: (489, 137)\n",
      "Saving final clean data to: /home/sdi1700187/MLCBAss1/Assignment-1/data/development_final_data.csv\n",
      "Saved the clean dataframe at: /home/sdi1700187/MLCBAss1/Assignment-1/data/development_final_data.csv\n",
      "Creating datframe for the clean data...\n",
      "The shape of the clean dataframe is: (211, 137)\n",
      "Saving final clean data to: /home/sdi1700187/MLCBAss1/Assignment-1/data/evaluation_final_data.csv\n",
      "Saved the clean dataframe at: /home/sdi1700187/MLCBAss1/Assignment-1/data/evaluation_final_data.csv\n"
     ]
    }
   ],
   "source": [
    "data_path=ass_path + \"/data\"\n",
    "\n",
    "# we save the two clean datasets\n",
    "save_clean_data(frames=frames_dev,mode=\"Dev\",data_path=data_path)\n",
    "save_clean_data(frames=frames_val,mode=\"Eval\",data_path=data_path)"
   ]
  }
 ],
 "metadata": {
  "kernelspec": {
   "display_name": "Python 3",
   "language": "python",
   "name": "python3"
  },
  "language_info": {
   "codemirror_mode": {
    "name": "ipython",
    "version": 3
   },
   "file_extension": ".py",
   "mimetype": "text/x-python",
   "name": "python",
   "nbconvert_exporter": "python",
   "pygments_lexer": "ipython3",
   "version": "3.10.12"
  }
 },
 "nbformat": 4,
 "nbformat_minor": 2
}
