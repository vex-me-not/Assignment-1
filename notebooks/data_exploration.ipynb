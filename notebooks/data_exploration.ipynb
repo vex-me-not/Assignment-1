{
 "cells": [
  {
   "cell_type": "code",
   "execution_count": 170,
   "metadata": {},
   "outputs": [
    {
     "name": "stdout",
     "output_type": "stream",
     "text": [
      "/home/sdi1700187/MLCBAss1/Assignment-1\n"
     ]
    }
   ],
   "source": [
    "import sys\n",
    "import os\n",
    "\n",
    "# need to be able to import srs\n",
    "sys.path.append(os.path.abspath(os.path.join(os.getcwd(), \"..\")))\n",
    "\n",
    "ass_path=sys.path[-1]\n",
    "\n",
    "print(ass_path)"
   ]
  },
  {
   "cell_type": "code",
   "execution_count": 171,
   "metadata": {},
   "outputs": [],
   "source": [
    "import numpy as np\n",
    "import pandas as pd\n",
    "import matplotlib.pyplot as plt\n",
    "from sklearn.preprocessing import StandardScaler,MinMaxScaler,RobustScaler,PowerTransformer\n",
    "from scipy import stats\n",
    "from sklearn.pipeline import Pipeline\n",
    "\n",
    "from src.functions import *"
   ]
  },
  {
   "cell_type": "code",
   "execution_count": null,
   "metadata": {},
   "outputs": [
    {
     "name": "stdout",
     "output_type": "stream",
     "text": [
      "No duplicates in the dev set\n",
      "No duplicates in the val set\n",
      "(489, 134)\n",
      "(131, 134)\n",
      "(211, 134)\n",
      "(0, 134)\n"
     ]
    }
   ],
   "source": [
    "\n",
    "dev_set_df=pd.read_csv(\"../data/assignment1_dev_set.csv\")\n",
    "val_set_df=pd.read_csv(\"../data/assignment1_val_set.csv\")\n",
    "\n",
    "\n",
    "# we replace potentially NA values in dev and val set\n",
    "dev_set_df.fillna(value=0.0)\n",
    "val_set_df.fillna(value=0.0)\n",
    "\n",
    "# we remove duplicates from the dev set\n",
    "shape_before=dev_set_df.shape\n",
    "dev_set_df.drop_duplicates()\n",
    "shape_after=dev_set_df.shape\n",
    "\n",
    "if (shape_before != shape_after):\n",
    "    print(\"Before removal of duplicates\",shape_before)\n",
    "    print(\"After removal of duplicates\",shape_after)\n",
    "else:\n",
    "    print(\"No duplicates in the dev set\")\n",
    "\n",
    "# we remove duplicates from the val set\n",
    "shape_before=val_set_df.shape\n",
    "val_set_df.drop_duplicates()\n",
    "shape_after=val_set_df.shape\n",
    "\n",
    "if (shape_before != shape_after):\n",
    "    print(\"Before removal of duplicates\",shape_before)\n",
    "    print(\"After removal of duplicates\",shape_after)\n",
    "else:\n",
    "    print(\"No duplicates in the val set\")\n",
    "\n",
    "bmi_dev=(dev_set_df[\"BMI\"])\n",
    "age_dev=(dev_set_df[\"Host age\"])\n",
    "sex_dev=dev_set_df[\"Sex\"]\n",
    "\n",
    "bmi_val=(val_set_df[\"BMI\"])\n",
    "age_val=(val_set_df[\"Host age\"])\n",
    "sex_val=val_set_df[\"Sex\"]\n",
    "\n",
    "to_drop=['Unnamed: 0', 'Project ID','Experiment type','Sex','Host age','Disease MESH ID','BMI']\n",
    "\n",
    "# we check for outliers\n",
    "bacteria_dev=dev_set_df.drop(labels=to_drop,axis=1)\n",
    "bacteria_val=val_set_df.drop(labels=to_drop,axis=1)\n",
    "\n",
    "# bacteria_no_outliers_dev=bacteria_dev[(np.abs(stats.zscore(bacteria_dev)) < 3).all(axis=1)]\n",
    "# print(bacteria_dev.shape)\n",
    "# print(bacteria_no_outliers_dev.shape)\n",
    "\n",
    "# bacteria_no_outliers_val=bacteria_val[(np.abs(stats.zscore(bacteria_val)) < 3).all(axis=1)]\n",
    "# print(bacteria_val.shape)\n",
    "# print(bacteria_no_outliers_val.shape)\n",
    "\n",
    "\n",
    "# we need to encode the sexes to 0 and 1\n",
    "sex_encoded_dev=sex_dev.apply(encode_sex)\n",
    "sex_encoded_val=sex_val.apply(encode_sex)\n",
    "\n",
    "bacteria_names_dev=list(bacteria_dev)\n",
    "bacteria_names_val=list(bacteria_val)\n"
   ]
  },
  {
   "cell_type": "code",
   "execution_count": null,
   "metadata": {},
   "outputs": [
    {
     "name": "stdout",
     "output_type": "stream",
     "text": [
      "(489, 134)\n",
      "(211, 134)\n"
     ]
    }
   ],
   "source": [
    "# we will scale our numerical data\n",
    "\n",
    "pipeline = Pipeline([\n",
    "    ('scaler', RobustScaler()),  \n",
    "    ('transformer', PowerTransformer(method='yeo-johnson'))\n",
    "])\n",
    "\n",
    "scaled_bacteria_dev=pipeline.fit_transform(bacteria_dev)\n",
    "scaled_bacteria_dev_df=pd.DataFrame(columns=bacteria_names_dev,data=scaled_bacteria_dev)\n",
    "scaled_bacteria_dev_df=scaled_bacteria_dev_df.reindex(sorted(scaled_bacteria_dev_df.columns),axis=1)\n",
    "print(scaled_bacteria_dev_df.shape)\n",
    "\n",
    "\n",
    "scaled_bacteria_val=pipeline.fit_transform(bacteria_val)\n",
    "scaled_bacteria_val_df=pd.DataFrame(columns=bacteria_names_val,data=scaled_bacteria_val)\n",
    "scaled_bacteria_val_df=scaled_bacteria_val_df.reindex(sorted(scaled_bacteria_val_df.columns),axis=1)\n",
    "print(scaled_bacteria_val_df.shape)"
   ]
  },
  {
   "cell_type": "code",
   "execution_count": 174,
   "metadata": {},
   "outputs": [
    {
     "name": "stdout",
     "output_type": "stream",
     "text": [
      "(489, 137)\n",
      "/home/sdi1700187/MLCBAss1/Assignment-1/data/development_final_data.csv\n",
      "(211, 137)\n",
      "/home/sdi1700187/MLCBAss1/Assignment-1/data/evaluation_final_data.csv\n"
     ]
    }
   ],
   "source": [
    "data_path=ass_path + \"/data\"\n",
    "\n",
    "to_be_saved_dev=pd.concat([bmi_dev,age_dev,sex_encoded_dev,scaled_bacteria_dev_df],axis=1)\n",
    "print(to_be_saved_dev.shape)\n",
    "\n",
    "\n",
    "file_name_dev=data_path + \"/development_final_data.csv\"\n",
    "print(file_name_dev)\n",
    "to_be_saved_dev.to_csv(file_name_dev)\n",
    "\n",
    "to_be_saved_val=pd.concat([bmi_val,age_val,sex_encoded_val,scaled_bacteria_val_df],axis=1)\n",
    "print(to_be_saved_val.shape)\n",
    "\n",
    "file_name_val=data_path + \"/evaluation_final_data.csv\"\n",
    "print(file_name_val)\n",
    "to_be_saved_val.to_csv(file_name_val)\n"
   ]
  }
 ],
 "metadata": {
  "kernelspec": {
   "display_name": "base",
   "language": "python",
   "name": "python3"
  },
  "language_info": {
   "codemirror_mode": {
    "name": "ipython",
    "version": 3
   },
   "file_extension": ".py",
   "mimetype": "text/x-python",
   "name": "python",
   "nbconvert_exporter": "python",
   "pygments_lexer": "ipython3",
   "version": "3.12.7"
  }
 },
 "nbformat": 4,
 "nbformat_minor": 2
}
