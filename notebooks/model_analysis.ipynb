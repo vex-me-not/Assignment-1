{
 "cells": [
  {
   "cell_type": "code",
   "execution_count": 11,
   "metadata": {},
   "outputs": [
    {
     "name": "stdout",
     "output_type": "stream",
     "text": [
      "/home/sdi1700187/MLCBAss1/Assignment-1\n",
      "The autoreload extension is already loaded. To reload it, use:\n",
      "  %reload_ext autoreload\n"
     ]
    }
   ],
   "source": [
    "import sys\n",
    "import os\n",
    "import numpy as np\n",
    "import pandas as pd\n",
    "\n",
    "# need to be able to import src\n",
    "sys.path.append(os.path.abspath(os.path.join(os.getcwd(), \"..\")))\n",
    "\n",
    "# absolute path to the src directory\n",
    "src_path = os.path.abspath(\"../src\")\n",
    "\n",
    "# Add src directory to system path\n",
    "sys.path.append(src_path)\n",
    "\n",
    "# get the /MLCBAss1/Assignment-1 path\n",
    "ass_path=sys.path[-2]\n",
    "\n",
    "print(ass_path)\n",
    "\n",
    "\n",
    "%load_ext autoreload\n",
    "%autoreload 2\n",
    "\n",
    "from functions import *"
   ]
  },
  {
   "cell_type": "code",
   "execution_count": 12,
   "metadata": {},
   "outputs": [],
   "source": [
    "# we load the two datasets\n",
    "dev_set_df=pd.read_csv(\"../data/development_final_data.csv\")\n",
    "val_set_df=pd.read_csv(\"../data/evaluation_final_data.csv\")\n",
    "\n",
    "dev_set_df=dev_set_df.drop(labels=['Unnamed: 0'],axis=1)\n",
    "val_set_df=val_set_df.drop(labels=['Unnamed: 0'],axis=1)\n",
    "\n",
    "dev_set_df.head()\n",
    "# val_set_df.head()\n",
    "bacteria=get_bacteria(dev_set_df,mode='analysis')\n",
    "bacteria_names=bacteria.columns\n",
    "y_train=dev_set_df[\"BMI\"]\n",
    "x_train=scale_data(bacteria,bacteria_names)\n"
   ]
  },
  {
   "cell_type": "code",
   "execution_count": 13,
   "metadata": {},
   "outputs": [],
   "source": [
    "models_dir=\"../models\"\n",
    "\n",
    "model_io=IO(models_dir)\n",
    "\n",
    "baseline_predictor=DefaultPredictor()"
   ]
  },
  {
   "cell_type": "code",
   "execution_count": 14,
   "metadata": {},
   "outputs": [],
   "source": [
    "# Baseline models\n",
    "\n",
    "# train models\n",
    "baseline_models=baseline_predictor.train_models(x_train=x_train,y_train=y_train)\n",
    "\n",
    "# save models\n",
    "for name,model in baseline_models.items():\n",
    "    model_io.save(model,name,suf='bsln')"
   ]
  }
 ],
 "metadata": {
  "kernelspec": {
   "display_name": "Python 3",
   "language": "python",
   "name": "python3"
  },
  "language_info": {
   "codemirror_mode": {
    "name": "ipython",
    "version": 3
   },
   "file_extension": ".py",
   "mimetype": "text/x-python",
   "name": "python",
   "nbconvert_exporter": "python",
   "pygments_lexer": "ipython3",
   "version": "3.10.12"
  }
 },
 "nbformat": 4,
 "nbformat_minor": 2
}
