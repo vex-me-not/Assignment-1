{
 "cells": [
  {
   "cell_type": "code",
   "execution_count": 2,
   "metadata": {},
   "outputs": [
    {
     "name": "stdout",
     "output_type": "stream",
     "text": [
      "/home/sdi1700187/MLCBAss1/Assignment-1\n"
     ]
    }
   ],
   "source": [
    "import sys\n",
    "import os\n",
    "import numpy as np\n",
    "import pandas as pd\n",
    "\n",
    "from sklearn.feature_selection import SequentialFeatureSelector\n",
    "\n",
    "# need to be able to import src\n",
    "sys.path.append(os.path.abspath(os.path.join(os.getcwd(), \"..\")))\n",
    "\n",
    "# absolute path to the src directory\n",
    "src_path = os.path.abspath(\"../src\")\n",
    "\n",
    "# Add src directory to system path\n",
    "sys.path.append(src_path)\n",
    "\n",
    "# get the /MLCBAss1/Assignment-1 path\n",
    "ass_path=sys.path[-2]\n",
    "\n",
    "print(ass_path)\n",
    "\n",
    "\n",
    "%load_ext autoreload\n",
    "%autoreload 2\n",
    "\n",
    "from functions import *"
   ]
  },
  {
   "cell_type": "code",
   "execution_count": 3,
   "metadata": {},
   "outputs": [],
   "source": [
    "# we load the two datasets\n",
    "dev_set_df=pd.read_csv(\"../data/development_final_data.csv\")\n",
    "val_set_df=pd.read_csv(\"../data/evaluation_final_data.csv\")\n",
    "\n",
    "dev_set_df=dev_set_df.drop(labels=['Unnamed: 0'],axis=1)\n",
    "val_set_df=val_set_df.drop(labels=['Unnamed: 0'],axis=1)\n",
    "\n",
    "dev_set_df.head()\n",
    "# val_set_df.head()\n",
    "bacteria=get_bacteria(dev_set_df,mode='analysis')\n",
    "bacteria_names=bacteria.columns\n",
    "y_train=dev_set_df[\"BMI\"]\n",
    "x_train=scale_data(bacteria,bacteria_names)\n",
    "\n",
    "bacteria_val=get_bacteria(val_set_df,mode='analysis')\n",
    "bacteria_names_val=bacteria_val.columns\n",
    "y_val=val_set_df[\"BMI\"]\n",
    "x_val=scale_data(bacteria_val,bacteria_names_val)\n"
   ]
  },
  {
   "cell_type": "code",
   "execution_count": 4,
   "metadata": {},
   "outputs": [],
   "source": [
    "models_dir=\"../models\"\n",
    "\n",
    "model_io=IO(models_dir)\n",
    "\n",
    "baseline_predictor=DefaultPredictor()"
   ]
  },
  {
   "cell_type": "code",
   "execution_count": 5,
   "metadata": {},
   "outputs": [],
   "source": [
    "# Baseline models\n",
    "\n",
    "# train models\n",
    "baseline_models=baseline_predictor.train_models(x_train=x_train,y_train=y_train)\n",
    "\n",
    "# save models\n",
    "for name,model in baseline_models.items():\n",
    "    model_io.save(model,name,suf='bsln')"
   ]
  },
  {
   "cell_type": "code",
   "execution_count": 6,
   "metadata": {},
   "outputs": [
    {
     "data": {
      "text/html": [
       "<div>\n",
       "<style scoped>\n",
       "    .dataframe tbody tr th:only-of-type {\n",
       "        vertical-align: middle;\n",
       "    }\n",
       "\n",
       "    .dataframe tbody tr th {\n",
       "        vertical-align: top;\n",
       "    }\n",
       "\n",
       "    .dataframe thead th {\n",
       "        text-align: right;\n",
       "    }\n",
       "</style>\n",
       "<table border=\"1\" class=\"dataframe\">\n",
       "  <thead>\n",
       "    <tr style=\"text-align: right;\">\n",
       "      <th></th>\n",
       "      <th>mean</th>\n",
       "      <th>std</th>\n",
       "      <th>median</th>\n",
       "      <th>CIlow</th>\n",
       "      <th>CIhigh</th>\n",
       "    </tr>\n",
       "  </thead>\n",
       "  <tbody>\n",
       "    <tr>\n",
       "      <th>RMSE</th>\n",
       "      <td>3.8794</td>\n",
       "      <td>0.3304</td>\n",
       "      <td>3.8691</td>\n",
       "      <td>3.2593</td>\n",
       "      <td>4.5849</td>\n",
       "    </tr>\n",
       "    <tr>\n",
       "      <th>MAE</th>\n",
       "      <td>2.7381</td>\n",
       "      <td>0.1847</td>\n",
       "      <td>2.7382</td>\n",
       "      <td>2.3567</td>\n",
       "      <td>3.1039</td>\n",
       "    </tr>\n",
       "    <tr>\n",
       "      <th>R2</th>\n",
       "      <td>0.0395</td>\n",
       "      <td>0.0163</td>\n",
       "      <td>0.0405</td>\n",
       "      <td>0.0044</td>\n",
       "      <td>0.0728</td>\n",
       "    </tr>\n",
       "  </tbody>\n",
       "</table>\n",
       "</div>"
      ],
      "text/plain": [
       "        mean     std  median   CIlow  CIhigh\n",
       "RMSE  3.8794  0.3304  3.8691  3.2593  4.5849\n",
       "MAE   2.7381  0.1847  2.7382  2.3567  3.1039\n",
       "R2    0.0395  0.0163  0.0405  0.0044  0.0728"
      ]
     },
     "execution_count": 6,
     "metadata": {},
     "output_type": "execute_result"
    }
   ],
   "source": [
    "# we evaluate the baseline models\n",
    "\n",
    "# Elastic Net\n",
    "baseline_elastic_evaluator=Evaluator(model=model_io.load('ElasticNet',suf='bsln'),name='ElasticNet')\n",
    "baseline_elastic_evaluator.evaluate(x=x_val,y=y_val)\n",
    "\n",
    "baseline_elastic_report=baseline_elastic_evaluator.report()\n",
    "baseline_elastic_report.head()"
   ]
  },
  {
   "cell_type": "code",
   "execution_count": 7,
   "metadata": {},
   "outputs": [
    {
     "data": {
      "text/html": [
       "<div>\n",
       "<style scoped>\n",
       "    .dataframe tbody tr th:only-of-type {\n",
       "        vertical-align: middle;\n",
       "    }\n",
       "\n",
       "    .dataframe tbody tr th {\n",
       "        vertical-align: top;\n",
       "    }\n",
       "\n",
       "    .dataframe thead th {\n",
       "        text-align: right;\n",
       "    }\n",
       "</style>\n",
       "<table border=\"1\" class=\"dataframe\">\n",
       "  <thead>\n",
       "    <tr style=\"text-align: right;\">\n",
       "      <th></th>\n",
       "      <th>mean</th>\n",
       "      <th>std</th>\n",
       "      <th>median</th>\n",
       "      <th>CIlow</th>\n",
       "      <th>CIhigh</th>\n",
       "    </tr>\n",
       "  </thead>\n",
       "  <tbody>\n",
       "    <tr>\n",
       "      <th>RMSE</th>\n",
       "      <td>3.6928</td>\n",
       "      <td>0.3500</td>\n",
       "      <td>3.6887</td>\n",
       "      <td>3.0190</td>\n",
       "      <td>4.4536</td>\n",
       "    </tr>\n",
       "    <tr>\n",
       "      <th>MAE</th>\n",
       "      <td>2.3473</td>\n",
       "      <td>0.1905</td>\n",
       "      <td>2.3484</td>\n",
       "      <td>1.9711</td>\n",
       "      <td>2.7253</td>\n",
       "    </tr>\n",
       "    <tr>\n",
       "      <th>R2</th>\n",
       "      <td>0.1307</td>\n",
       "      <td>0.0326</td>\n",
       "      <td>0.1302</td>\n",
       "      <td>0.0687</td>\n",
       "      <td>0.1958</td>\n",
       "    </tr>\n",
       "  </tbody>\n",
       "</table>\n",
       "</div>"
      ],
      "text/plain": [
       "        mean     std  median   CIlow  CIhigh\n",
       "RMSE  3.6928  0.3500  3.6887  3.0190  4.4536\n",
       "MAE   2.3473  0.1905  2.3484  1.9711  2.7253\n",
       "R2    0.1307  0.0326  0.1302  0.0687  0.1958"
      ]
     },
     "execution_count": 7,
     "metadata": {},
     "output_type": "execute_result"
    }
   ],
   "source": [
    "# SVR\n",
    "baseline_svr_evaluator=Evaluator(model=model_io.load('SVR',suf='bsln'),name='SVR')\n",
    "baseline_svr_evaluator.evaluate(x=x_val,y=y_val)\n",
    "\n",
    "baseline_svr_report=baseline_svr_evaluator.report()\n",
    "baseline_svr_report.head()"
   ]
  },
  {
   "cell_type": "code",
   "execution_count": 8,
   "metadata": {},
   "outputs": [
    {
     "data": {
      "text/html": [
       "<div>\n",
       "<style scoped>\n",
       "    .dataframe tbody tr th:only-of-type {\n",
       "        vertical-align: middle;\n",
       "    }\n",
       "\n",
       "    .dataframe tbody tr th {\n",
       "        vertical-align: top;\n",
       "    }\n",
       "\n",
       "    .dataframe thead th {\n",
       "        text-align: right;\n",
       "    }\n",
       "</style>\n",
       "<table border=\"1\" class=\"dataframe\">\n",
       "  <thead>\n",
       "    <tr style=\"text-align: right;\">\n",
       "      <th></th>\n",
       "      <th>mean</th>\n",
       "      <th>std</th>\n",
       "      <th>median</th>\n",
       "      <th>CIlow</th>\n",
       "      <th>CIhigh</th>\n",
       "    </tr>\n",
       "  </thead>\n",
       "  <tbody>\n",
       "    <tr>\n",
       "      <th>RMSE</th>\n",
       "      <td>3.8478</td>\n",
       "      <td>0.3172</td>\n",
       "      <td>3.8340</td>\n",
       "      <td>3.2567</td>\n",
       "      <td>4.5220</td>\n",
       "    </tr>\n",
       "    <tr>\n",
       "      <th>MAE</th>\n",
       "      <td>2.6702</td>\n",
       "      <td>0.1870</td>\n",
       "      <td>2.6640</td>\n",
       "      <td>2.3116</td>\n",
       "      <td>3.0266</td>\n",
       "    </tr>\n",
       "    <tr>\n",
       "      <th>R2</th>\n",
       "      <td>0.0537</td>\n",
       "      <td>0.0459</td>\n",
       "      <td>0.0565</td>\n",
       "      <td>-0.0434</td>\n",
       "      <td>0.1396</td>\n",
       "    </tr>\n",
       "  </tbody>\n",
       "</table>\n",
       "</div>"
      ],
      "text/plain": [
       "        mean     std  median   CIlow  CIhigh\n",
       "RMSE  3.8478  0.3172  3.8340  3.2567  4.5220\n",
       "MAE   2.6702  0.1870  2.6640  2.3116  3.0266\n",
       "R2    0.0537  0.0459  0.0565 -0.0434  0.1396"
      ]
     },
     "execution_count": 8,
     "metadata": {},
     "output_type": "execute_result"
    }
   ],
   "source": [
    "# Bayesian Ridge\n",
    "baseline_bayesian_evaluator=Evaluator(model=model_io.load('BayesianRidge',suf='bsln'),name='BayesianRidge')\n",
    "baseline_bayesian_evaluator.evaluate(x=x_val,y=y_val)\n",
    "\n",
    "baseline_bayesian_report=baseline_bayesian_evaluator.report()\n",
    "baseline_bayesian_report.head()"
   ]
  },
  {
   "cell_type": "code",
   "execution_count": 9,
   "metadata": {},
   "outputs": [
    {
     "data": {
      "image/png": "[encoded data removed]",
      "text/plain": [
       "<Figure size 1800x600 with 3 Axes>"
      ]
     },
     "metadata": {},
     "output_type": "display_data"
    }
   ],
   "source": [
    "# we visualize the comparison between the methods\n",
    "viz_comparison(baseline_elastic_evaluator,baseline_svr_evaluator,baseline_bayesian_evaluator)"
   ]
  },
  {
   "cell_type": "code",
   "execution_count": null,
   "metadata": {},
   "outputs": [],
   "source": [
    "# Feature selection\n",
    "# Maybe feature select just on SVR?\n",
    "sfs_list=[]\n",
    "for name,model in baseline_models.items():\n",
    "    sfs=SequentialFeatureSelector(model,n_features_to_select=20)\n",
    "    sfs.fit(x_train,y_train)\n",
    "    sfs_list.append(sfs)\n",
    "\n"
   ]
  },
  {
   "cell_type": "code",
   "execution_count": null,
   "metadata": {},
   "outputs": [
    {
     "name": "stdout",
     "output_type": "stream",
     "text": [
      "[False False False False False False False False False  True False False\n",
      " False False False False False False False False False False False False\n",
      " False False False False False False False False False False False False\n",
      " False False False False False False False False False False False False\n",
      " False False False False False False False False False False False False\n",
      " False False False False False  True False False False False False False\n",
      " False False False False False False False False False False False False\n",
      " False False False False False False False False False False False False\n",
      " False False False False False False  True False False False False False\n",
      " False False False False False False False False False False False False\n",
      " False False False  True  True False False False False False False  True\n",
      " False False]\n",
      "Index(['Alistipes putredinis', 'Clostridium symbiosum',\n",
      "       'Parabacteroides johnsonii', 'Ruminococcus champanellensis',\n",
      "       'Ruminococcus flavefaciens', 'Sutterella parvirubra'],\n",
      "      dtype='object')\n"
     ]
    }
   ],
   "source": [
    "final=np.logical_and(sfs_list[0].get_support(),sfs_list[1].get_support(),sfs_list[2].get_support())\n",
    "selected_features=x_train.columns[final]\n",
    "\n",
    "# for i in range(len(sfs_list)):\n",
    "#     selected=x_train.columns[sfs_list[i].get_support()]\n",
    "#     selected_features.append(selected)\n",
    "\n",
    "print(selected_features)"
   ]
  }
 ],
 "metadata": {
  "kernelspec": {
   "display_name": "Python 3",
   "language": "python",
   "name": "python3"
  },
  "language_info": {
   "codemirror_mode": {
    "name": "ipython",
    "version": 3
   },
   "file_extension": ".py",
   "mimetype": "text/x-python",
   "name": "python",
   "nbconvert_exporter": "python",
   "pygments_lexer": "ipython3",
   "version": "3.10.12"
  }
 },
 "nbformat": 4,
 "nbformat_minor": 2
}
